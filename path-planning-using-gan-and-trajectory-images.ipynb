{
 "cells": [
  {
   "cell_type": "markdown",
   "metadata": {
    "_uuid": "25c7d66cd9316a04e175245738b2e137f8614713"
   },
   "source": [
    "# Path planning using Generative Adversarial Network"
   ]
  },
  {
   "cell_type": "markdown",
   "metadata": {
    "_uuid": "7d2c2d42ade7504ca912701d016c396b9a3ee17d"
   },
   "source": [
    "In this notebook, I employ the concept of Generative Adversarial Network for path planning, i.e., generate paths between two points and classify them to be sure we get the right path.  The idea is to train the GAN based on the training data and later inqure the GAN to generate possible paths between two points. The potential applications of this work would be way finding and navigation for robots and autonomous vehicles. Training data includes different trajectories between 6 pairs of specified points. We treat each trajectory sample as an image. For more information about the data structure and experiment setup see the [dataset description](https://www.kaggle.com/datasets/mehdimka/path-planning)."
   ]
  },
  {
   "cell_type": "markdown",
   "metadata": {
    "_uuid": "62275ca561cbdb5885225e44c41196be117dffa5"
   },
   "source": [
    "## Loading packages"
   ]
  },
  {
   "cell_type": "code",
   "execution_count": 1,
   "metadata": {
    "_uuid": "50a04676ef8767a1788f12c456e120a6e82188d3"
   },
   "outputs": [
    {
     "name": "stderr",
     "output_type": "stream",
     "text": [
      "Using TensorFlow backend.\n"
     ]
    }
   ],
   "source": [
    "import numpy as np # linear algebra\n",
    "import pandas as pd # data processing, CSV file I/O (e.g. pd.read_csv)\n",
    "from keras.layers import Input, Dense, Reshape, Flatten, Dropout\n",
    "from keras.layers import BatchNormalization\n",
    "from keras.layers.advanced_activations import LeakyReLU\n",
    "from keras.models import Sequential, Model\n",
    "from keras.optimizers import Adam\n",
    "\n",
    "from keras.utils import np_utils\n",
    "from sklearn.preprocessing import LabelEncoder\n",
    "\n",
    "import os\n",
    "import time\n",
    "from pylab import *"
   ]
  },
  {
   "cell_type": "markdown",
   "metadata": {
    "_uuid": "a1f8bd6664dba473f9ab2c773a2c07c4a782167a"
   },
   "source": [
    "## Loading data\n",
    "Here we load all csv files into feature and label vectors. Note that all CSV files in the original dataset are zipped in dataset.zip file but when used in kaggle kernels they are unzipped automattically under dataset/dataset folder. "
   ]
  },
  {
   "cell_type": "code",
   "execution_count": 2,
   "metadata": {
    "_uuid": "89e7394505d86a7ae5a475d3c023551a2a445fce"
   },
   "outputs": [],
   "source": [
    "data_path = \"../input/dataset/dataset\""
   ]
  },
  {
   "cell_type": "markdown",
   "metadata": {
    "_uuid": "129a3712f67bbb8f3a222e21cc33571319b8f63f"
   },
   "source": [
    "### See how a trajectory data looks like"
   ]
  },
  {
   "cell_type": "code",
   "execution_count": 3,
   "metadata": {
    "_uuid": "7bbf090dbf03b4c8a3b475ca78a6f687a825ad61"
   },
   "outputs": [
    {
     "data": {
      "text/html": [
       "<div>\n",
       "<style scoped>\n",
       "    .dataframe tbody tr th:only-of-type {\n",
       "        vertical-align: middle;\n",
       "    }\n",
       "\n",
       "    .dataframe tbody tr th {\n",
       "        vertical-align: top;\n",
       "    }\n",
       "\n",
       "    .dataframe thead th {\n",
       "        text-align: right;\n",
       "    }\n",
       "</style>\n",
       "<table border=\"1\" class=\"dataframe\">\n",
       "  <thead>\n",
       "    <tr style=\"text-align: right;\">\n",
       "      <th></th>\n",
       "      <th>0</th>\n",
       "      <th>1</th>\n",
       "      <th>2</th>\n",
       "      <th>3</th>\n",
       "      <th>4</th>\n",
       "      <th>5</th>\n",
       "      <th>6</th>\n",
       "      <th>7</th>\n",
       "      <th>8</th>\n",
       "      <th>9</th>\n",
       "      <th>10</th>\n",
       "      <th>11</th>\n",
       "      <th>12</th>\n",
       "    </tr>\n",
       "  </thead>\n",
       "  <tbody>\n",
       "    <tr>\n",
       "      <th>0</th>\n",
       "      <td>1</td>\n",
       "      <td>0</td>\n",
       "      <td>0</td>\n",
       "      <td>0</td>\n",
       "      <td>0</td>\n",
       "      <td>0</td>\n",
       "      <td>0</td>\n",
       "      <td>0</td>\n",
       "      <td>0</td>\n",
       "      <td>0</td>\n",
       "      <td>0</td>\n",
       "      <td>0</td>\n",
       "      <td>0</td>\n",
       "    </tr>\n",
       "    <tr>\n",
       "      <th>1</th>\n",
       "      <td>1</td>\n",
       "      <td>0</td>\n",
       "      <td>0</td>\n",
       "      <td>0</td>\n",
       "      <td>0</td>\n",
       "      <td>0</td>\n",
       "      <td>0</td>\n",
       "      <td>0</td>\n",
       "      <td>0</td>\n",
       "      <td>0</td>\n",
       "      <td>0</td>\n",
       "      <td>0</td>\n",
       "      <td>0</td>\n",
       "    </tr>\n",
       "    <tr>\n",
       "      <th>2</th>\n",
       "      <td>1</td>\n",
       "      <td>0</td>\n",
       "      <td>0</td>\n",
       "      <td>0</td>\n",
       "      <td>0</td>\n",
       "      <td>0</td>\n",
       "      <td>0</td>\n",
       "      <td>0</td>\n",
       "      <td>0</td>\n",
       "      <td>0</td>\n",
       "      <td>0</td>\n",
       "      <td>0</td>\n",
       "      <td>0</td>\n",
       "    </tr>\n",
       "    <tr>\n",
       "      <th>3</th>\n",
       "      <td>1</td>\n",
       "      <td>0</td>\n",
       "      <td>0</td>\n",
       "      <td>0</td>\n",
       "      <td>0</td>\n",
       "      <td>0</td>\n",
       "      <td>0</td>\n",
       "      <td>0</td>\n",
       "      <td>0</td>\n",
       "      <td>0</td>\n",
       "      <td>0</td>\n",
       "      <td>0</td>\n",
       "      <td>0</td>\n",
       "    </tr>\n",
       "    <tr>\n",
       "      <th>4</th>\n",
       "      <td>1</td>\n",
       "      <td>1</td>\n",
       "      <td>1</td>\n",
       "      <td>1</td>\n",
       "      <td>1</td>\n",
       "      <td>0</td>\n",
       "      <td>0</td>\n",
       "      <td>0</td>\n",
       "      <td>0</td>\n",
       "      <td>0</td>\n",
       "      <td>0</td>\n",
       "      <td>0</td>\n",
       "      <td>0</td>\n",
       "    </tr>\n",
       "    <tr>\n",
       "      <th>5</th>\n",
       "      <td>0</td>\n",
       "      <td>0</td>\n",
       "      <td>0</td>\n",
       "      <td>0</td>\n",
       "      <td>0</td>\n",
       "      <td>1</td>\n",
       "      <td>0</td>\n",
       "      <td>0</td>\n",
       "      <td>0</td>\n",
       "      <td>0</td>\n",
       "      <td>0</td>\n",
       "      <td>0</td>\n",
       "      <td>0</td>\n",
       "    </tr>\n",
       "    <tr>\n",
       "      <th>6</th>\n",
       "      <td>0</td>\n",
       "      <td>0</td>\n",
       "      <td>0</td>\n",
       "      <td>0</td>\n",
       "      <td>0</td>\n",
       "      <td>0</td>\n",
       "      <td>1</td>\n",
       "      <td>0</td>\n",
       "      <td>0</td>\n",
       "      <td>0</td>\n",
       "      <td>0</td>\n",
       "      <td>0</td>\n",
       "      <td>0</td>\n",
       "    </tr>\n",
       "    <tr>\n",
       "      <th>7</th>\n",
       "      <td>0</td>\n",
       "      <td>0</td>\n",
       "      <td>0</td>\n",
       "      <td>0</td>\n",
       "      <td>0</td>\n",
       "      <td>0</td>\n",
       "      <td>0</td>\n",
       "      <td>1</td>\n",
       "      <td>0</td>\n",
       "      <td>0</td>\n",
       "      <td>0</td>\n",
       "      <td>0</td>\n",
       "      <td>0</td>\n",
       "    </tr>\n",
       "    <tr>\n",
       "      <th>8</th>\n",
       "      <td>0</td>\n",
       "      <td>0</td>\n",
       "      <td>0</td>\n",
       "      <td>0</td>\n",
       "      <td>0</td>\n",
       "      <td>0</td>\n",
       "      <td>0</td>\n",
       "      <td>1</td>\n",
       "      <td>0</td>\n",
       "      <td>0</td>\n",
       "      <td>0</td>\n",
       "      <td>0</td>\n",
       "      <td>0</td>\n",
       "    </tr>\n",
       "    <tr>\n",
       "      <th>9</th>\n",
       "      <td>0</td>\n",
       "      <td>0</td>\n",
       "      <td>0</td>\n",
       "      <td>0</td>\n",
       "      <td>0</td>\n",
       "      <td>0</td>\n",
       "      <td>0</td>\n",
       "      <td>1</td>\n",
       "      <td>0</td>\n",
       "      <td>0</td>\n",
       "      <td>0</td>\n",
       "      <td>0</td>\n",
       "      <td>0</td>\n",
       "    </tr>\n",
       "    <tr>\n",
       "      <th>10</th>\n",
       "      <td>0</td>\n",
       "      <td>0</td>\n",
       "      <td>0</td>\n",
       "      <td>0</td>\n",
       "      <td>0</td>\n",
       "      <td>0</td>\n",
       "      <td>0</td>\n",
       "      <td>1</td>\n",
       "      <td>0</td>\n",
       "      <td>0</td>\n",
       "      <td>0</td>\n",
       "      <td>0</td>\n",
       "      <td>0</td>\n",
       "    </tr>\n",
       "    <tr>\n",
       "      <th>11</th>\n",
       "      <td>0</td>\n",
       "      <td>0</td>\n",
       "      <td>0</td>\n",
       "      <td>0</td>\n",
       "      <td>0</td>\n",
       "      <td>0</td>\n",
       "      <td>0</td>\n",
       "      <td>0</td>\n",
       "      <td>1</td>\n",
       "      <td>0</td>\n",
       "      <td>0</td>\n",
       "      <td>0</td>\n",
       "      <td>0</td>\n",
       "    </tr>\n",
       "    <tr>\n",
       "      <th>12</th>\n",
       "      <td>0</td>\n",
       "      <td>0</td>\n",
       "      <td>0</td>\n",
       "      <td>0</td>\n",
       "      <td>0</td>\n",
       "      <td>0</td>\n",
       "      <td>0</td>\n",
       "      <td>0</td>\n",
       "      <td>1</td>\n",
       "      <td>0</td>\n",
       "      <td>0</td>\n",
       "      <td>0</td>\n",
       "      <td>0</td>\n",
       "    </tr>\n",
       "    <tr>\n",
       "      <th>13</th>\n",
       "      <td>0</td>\n",
       "      <td>0</td>\n",
       "      <td>0</td>\n",
       "      <td>0</td>\n",
       "      <td>0</td>\n",
       "      <td>0</td>\n",
       "      <td>0</td>\n",
       "      <td>0</td>\n",
       "      <td>1</td>\n",
       "      <td>0</td>\n",
       "      <td>0</td>\n",
       "      <td>0</td>\n",
       "      <td>0</td>\n",
       "    </tr>\n",
       "    <tr>\n",
       "      <th>14</th>\n",
       "      <td>0</td>\n",
       "      <td>0</td>\n",
       "      <td>0</td>\n",
       "      <td>0</td>\n",
       "      <td>0</td>\n",
       "      <td>0</td>\n",
       "      <td>0</td>\n",
       "      <td>1</td>\n",
       "      <td>0</td>\n",
       "      <td>0</td>\n",
       "      <td>0</td>\n",
       "      <td>0</td>\n",
       "      <td>0</td>\n",
       "    </tr>\n",
       "    <tr>\n",
       "      <th>15</th>\n",
       "      <td>0</td>\n",
       "      <td>0</td>\n",
       "      <td>0</td>\n",
       "      <td>0</td>\n",
       "      <td>0</td>\n",
       "      <td>0</td>\n",
       "      <td>0</td>\n",
       "      <td>0</td>\n",
       "      <td>0</td>\n",
       "      <td>0</td>\n",
       "      <td>0</td>\n",
       "      <td>0</td>\n",
       "      <td>0</td>\n",
       "    </tr>\n",
       "    <tr>\n",
       "      <th>16</th>\n",
       "      <td>0</td>\n",
       "      <td>0</td>\n",
       "      <td>0</td>\n",
       "      <td>0</td>\n",
       "      <td>0</td>\n",
       "      <td>0</td>\n",
       "      <td>0</td>\n",
       "      <td>0</td>\n",
       "      <td>0</td>\n",
       "      <td>0</td>\n",
       "      <td>0</td>\n",
       "      <td>0</td>\n",
       "      <td>0</td>\n",
       "    </tr>\n",
       "    <tr>\n",
       "      <th>17</th>\n",
       "      <td>0</td>\n",
       "      <td>0</td>\n",
       "      <td>0</td>\n",
       "      <td>0</td>\n",
       "      <td>0</td>\n",
       "      <td>0</td>\n",
       "      <td>0</td>\n",
       "      <td>0</td>\n",
       "      <td>0</td>\n",
       "      <td>0</td>\n",
       "      <td>0</td>\n",
       "      <td>0</td>\n",
       "      <td>0</td>\n",
       "    </tr>\n",
       "    <tr>\n",
       "      <th>18</th>\n",
       "      <td>0</td>\n",
       "      <td>0</td>\n",
       "      <td>0</td>\n",
       "      <td>0</td>\n",
       "      <td>0</td>\n",
       "      <td>0</td>\n",
       "      <td>0</td>\n",
       "      <td>0</td>\n",
       "      <td>0</td>\n",
       "      <td>0</td>\n",
       "      <td>0</td>\n",
       "      <td>0</td>\n",
       "      <td>0</td>\n",
       "    </tr>\n",
       "  </tbody>\n",
       "</table>\n",
       "</div>"
      ],
      "text/plain": [
       "    0   1   2   3   4   5   6   7   8   9   10  11  12\n",
       "0    1   0   0   0   0   0   0   0   0   0   0   0   0\n",
       "1    1   0   0   0   0   0   0   0   0   0   0   0   0\n",
       "2    1   0   0   0   0   0   0   0   0   0   0   0   0\n",
       "3    1   0   0   0   0   0   0   0   0   0   0   0   0\n",
       "4    1   1   1   1   1   0   0   0   0   0   0   0   0\n",
       "5    0   0   0   0   0   1   0   0   0   0   0   0   0\n",
       "6    0   0   0   0   0   0   1   0   0   0   0   0   0\n",
       "7    0   0   0   0   0   0   0   1   0   0   0   0   0\n",
       "8    0   0   0   0   0   0   0   1   0   0   0   0   0\n",
       "9    0   0   0   0   0   0   0   1   0   0   0   0   0\n",
       "10   0   0   0   0   0   0   0   1   0   0   0   0   0\n",
       "11   0   0   0   0   0   0   0   0   1   0   0   0   0\n",
       "12   0   0   0   0   0   0   0   0   1   0   0   0   0\n",
       "13   0   0   0   0   0   0   0   0   1   0   0   0   0\n",
       "14   0   0   0   0   0   0   0   1   0   0   0   0   0\n",
       "15   0   0   0   0   0   0   0   0   0   0   0   0   0\n",
       "16   0   0   0   0   0   0   0   0   0   0   0   0   0\n",
       "17   0   0   0   0   0   0   0   0   0   0   0   0   0\n",
       "18   0   0   0   0   0   0   0   0   0   0   0   0   0"
      ]
     },
     "execution_count": 3,
     "metadata": {},
     "output_type": "execute_result"
    }
   ],
   "source": [
    "sample_data = os.path.join(data_path, \"00_010.csv\")\n",
    "sample_df = pd.read_csv(sample_data, index_col=None, header=None)\n",
    "sample_df"
   ]
  },
  {
   "cell_type": "markdown",
   "metadata": {
    "_uuid": "fb34c6a51823b65d1b877be3279dda73e5b7ecd3"
   },
   "source": [
    "And see how it looks like visually"
   ]
  },
  {
   "cell_type": "code",
   "execution_count": 4,
   "metadata": {
    "_uuid": "b121c62f3c23a91ce3cceb4abcb43fff49e412c3"
   },
   "outputs": [
    {
     "data": {
      "image/png": "[encoded data removed]",
      "text/plain": [
       "<Figure size 432x288 with 1 Axes>"
      ]
     },
     "metadata": {},
     "output_type": "display_data"
    }
   ],
   "source": [
    "%matplotlib inline\n",
    "from matplotlib import pyplot as plt\n",
    "plt.imshow(sample_df.values, interpolation='nearest')\n",
    "plt.axis('off')\n",
    "plt.show()"
   ]
  },
  {
   "cell_type": "markdown",
   "metadata": {
    "_uuid": "15c8404399f7c1921d01a31be1d4828ada04d415"
   },
   "source": [
    "Now load all tragectories and identify their labels"
   ]
  },
  {
   "cell_type": "code",
   "execution_count": 5,
   "metadata": {
    "_cell_guid": "b1076dfc-b9ad-4769-8c92-a6c4dae69d19",
    "_uuid": "8f2839f25d086af736a60e9eeb907d3b93b6e0e5"
   },
   "outputs": [],
   "source": [
    "def loadData(path=data_path):\n",
    "    files = os.listdir(path)\n",
    "    data = []\n",
    "    labels = []\n",
    "    for fn in files:\n",
    "        ffn = os.path.join(path, fn)\n",
    "        df = pd.read_csv(ffn, index_col=None, header=None)\n",
    "        df[df==2]=0\n",
    "        data.append(df.values)\n",
    "        label = int(fn[0:2])\n",
    "        labels.append(label)\n",
    "    data = np.array(data) \n",
    "    return data, labels"
   ]
  },
  {
   "cell_type": "code",
   "execution_count": 6,
   "metadata": {
    "_cell_guid": "79c7e3d0-c299-4dcb-8224-4455121ee9b0",
    "_uuid": "d629ff2d2480ee46fbb7e2d37f6b5fab8052498a"
   },
   "outputs": [],
   "source": [
    "data, labels = loadData() "
   ]
  },
  {
   "cell_type": "code",
   "execution_count": 7,
   "metadata": {
    "_uuid": "ef39faaa418db68cc8df6abd8162de2edcdfded4"
   },
   "outputs": [
    {
     "name": "stdout",
     "output_type": "stream",
     "text": [
      "[1, 1, 2, 2, 0, 5, 1, 5, 3, 4, 4, 0, 5, 5, 5, 3, 4, 0, 0, 0, 4, 1, 2, 5, 2, 0, 1, 1, 1, 5, 2, 4, 3, 5, 3, 1, 4, 3, 2, 2, 0, 3, 0, 4, 4, 3, 2, 5, 0, 1, 3, 5, 4, 3, 2, 1, 5, 0, 4, 2, 4, 2, 4, 3, 1, 4, 1, 5, 4, 1, 0, 2, 0, 5, 2, 5, 4, 5, 2, 5, 2, 2, 0, 2, 3, 2, 4, 3, 3, 4, 5, 0, 3, 5, 5, 2, 2, 2, 5, 1, 4, 3, 1, 3, 4, 0, 3, 3, 4, 0, 3, 5, 0, 3, 5, 3, 4, 2, 0, 0, 2, 5, 3, 1, 2, 5, 3, 1, 4, 2, 5, 3, 4, 0, 2, 4, 4, 2, 4, 3, 1, 4, 0, 1, 2, 3, 3, 4, 2, 1, 4, 3, 5, 1, 2, 0, 2, 4, 3, 2, 0, 0, 1, 3, 4, 0, 2, 1, 2, 4, 3, 3, 5, 5, 1, 2, 0, 5, 1, 3, 2, 0, 4, 2, 0, 2, 5, 1, 0, 0, 0, 2, 0, 5, 5, 0, 2, 0, 5, 3, 3, 0, 1, 1, 3, 4, 4, 5, 3, 2, 3, 0, 1, 0, 0, 5, 3, 1, 4, 5, 5, 2, 5, 2, 4, 2, 5, 3, 2, 3, 5, 3, 1, 0, 1, 5, 1, 1, 3, 5, 4, 5, 4, 1, 0, 4, 1, 4, 5, 0, 1, 1, 2, 5, 3, 4, 0, 1, 1, 5, 4, 3, 4, 4, 4, 1, 3, 1, 1, 2, 1, 0, 1, 4, 0, 1, 0, 5, 2, 4, 2, 2, 3, 0, 1, 0, 4, 0, 3, 2, 0, 0, 3, 3, 4, 1, 5, 4, 4, 3, 5, 5, 0, 5, 1, 1, 2, 5, 4, 4, 5, 4, 3]\n"
     ]
    }
   ],
   "source": [
    "print(labels)"
   ]
  },
  {
   "cell_type": "markdown",
   "metadata": {
    "_uuid": "1732735aa352002f7e60dd7b9b3e102d3ff97845"
   },
   "source": [
    "### Load defined path classes ad their specification:\n",
    "We have 6 classes. (x1,y1) and (x2,y2) specify tow end of the path.  "
   ]
  },
  {
   "cell_type": "code",
   "execution_count": 8,
   "metadata": {
    "_uuid": "08b50cb8b0969863ce0f9db7cf3b7536fc8fc52f"
   },
   "outputs": [
    {
     "data": {
      "text/html": [
       "<div>\n",
       "<style scoped>\n",
       "    .dataframe tbody tr th:only-of-type {\n",
       "        vertical-align: middle;\n",
       "    }\n",
       "\n",
       "    .dataframe tbody tr th {\n",
       "        vertical-align: top;\n",
       "    }\n",
       "\n",
       "    .dataframe thead th {\n",
       "        text-align: right;\n",
       "    }\n",
       "</style>\n",
       "<table border=\"1\" class=\"dataframe\">\n",
       "  <thead>\n",
       "    <tr style=\"text-align: right;\">\n",
       "      <th></th>\n",
       "      <th>class</th>\n",
       "      <th>x1</th>\n",
       "      <th>y1</th>\n",
       "      <th>x2</th>\n",
       "      <th>y2</th>\n",
       "    </tr>\n",
       "  </thead>\n",
       "  <tbody>\n",
       "    <tr>\n",
       "      <th>0</th>\n",
       "      <td>0</td>\n",
       "      <td>0</td>\n",
       "      <td>0</td>\n",
       "      <td>14</td>\n",
       "      <td>7</td>\n",
       "    </tr>\n",
       "    <tr>\n",
       "      <th>1</th>\n",
       "      <td>1</td>\n",
       "      <td>0</td>\n",
       "      <td>0</td>\n",
       "      <td>16</td>\n",
       "      <td>12</td>\n",
       "    </tr>\n",
       "    <tr>\n",
       "      <th>2</th>\n",
       "      <td>2</td>\n",
       "      <td>2</td>\n",
       "      <td>5</td>\n",
       "      <td>16</td>\n",
       "      <td>12</td>\n",
       "    </tr>\n",
       "    <tr>\n",
       "      <th>3</th>\n",
       "      <td>3</td>\n",
       "      <td>2</td>\n",
       "      <td>5</td>\n",
       "      <td>16</td>\n",
       "      <td>8</td>\n",
       "    </tr>\n",
       "    <tr>\n",
       "      <th>4</th>\n",
       "      <td>4</td>\n",
       "      <td>2</td>\n",
       "      <td>5</td>\n",
       "      <td>18</td>\n",
       "      <td>0</td>\n",
       "    </tr>\n",
       "    <tr>\n",
       "      <th>5</th>\n",
       "      <td>5</td>\n",
       "      <td>4</td>\n",
       "      <td>0</td>\n",
       "      <td>10</td>\n",
       "      <td>10</td>\n",
       "    </tr>\n",
       "  </tbody>\n",
       "</table>\n",
       "</div>"
      ],
      "text/plain": [
       "   class  x1  y1  x2  y2\n",
       "0      0   0   0  14   7\n",
       "1      1   0   0  16  12\n",
       "2      2   2   5  16  12\n",
       "3      3   2   5  16   8\n",
       "4      4   2   5  18   0\n",
       "5      5   4   0  10  10"
      ]
     },
     "execution_count": 8,
     "metadata": {},
     "output_type": "execute_result"
    }
   ],
   "source": [
    "defined_path_classes = pd.read_csv(\"../input/pathClasses.csv\", index_col=None)\n",
    "defined_path_classes"
   ]
  },
  {
   "cell_type": "markdown",
   "metadata": {
    "_uuid": "9e2ab8acb67bf842d67c923876c8c940d1a5ba50"
   },
   "source": [
    "# Create GAN structure"
   ]
  },
  {
   "cell_type": "code",
   "execution_count": 9,
   "metadata": {
    "_uuid": "f5d71c308c9c3b15da8244a29b32e0ca2dc0c091"
   },
   "outputs": [],
   "source": [
    "class GAN():\n",
    "    def __init__(self, img_rows=19, img_cols=13, channels=1):\n",
    "        self.img_rows = img_rows\n",
    "        self.img_cols = img_cols\n",
    "        self.channels = channels\n",
    "        self.img_shape = (self.img_rows, self.img_cols, self.channels)\n",
    "\n",
    "        optimizer = Adam(0.0002, 0.5)\n",
    "\n",
    "        # Build and compile the discriminator\n",
    "        self.discriminator = self.build_discriminator()\n",
    "        self.discriminator.compile(loss='binary_crossentropy',\n",
    "                                   optimizer=optimizer,\n",
    "                                   metrics=['accuracy'])\n",
    "\n",
    "        # Build and compile the generator\n",
    "        self.generator = self.build_generator()\n",
    "        self.generator.compile(loss='binary_crossentropy', optimizer=optimizer)\n",
    "\n",
    "        # The generator takes noise as input and generated imgs\n",
    "        z = Input(shape=(100,))\n",
    "        img = self.generator(z)\n",
    "\n",
    "        # For the combined model we will only train the generator\n",
    "        self.discriminator.trainable = False\n",
    "\n",
    "        # The valid takes generated images as input and determines validity\n",
    "        valid = self.discriminator(img)\n",
    "\n",
    "        # The combined model  (stacked generator and discriminator) takes\n",
    "        # noise as input => generates images => determines validity \n",
    "        self.combined = Model(z, valid)\n",
    "        self.combined.compile(loss='binary_crossentropy', optimizer=optimizer)\n",
    "\n",
    "    def build_generator(self):\n",
    "\n",
    "        noise_shape = (100,)\n",
    "\n",
    "        model = Sequential()\n",
    "\n",
    "        model.add(Dense(256, input_shape=noise_shape))\n",
    "        model.add(LeakyReLU(alpha=0.2))\n",
    "        model.add(BatchNormalization(momentum=0.8))\n",
    "        model.add(Dense(512))\n",
    "        model.add(LeakyReLU(alpha=0.2))\n",
    "        model.add(BatchNormalization(momentum=0.8))\n",
    "        model.add(Dense(1024))\n",
    "        model.add(LeakyReLU(alpha=0.2))\n",
    "        model.add(BatchNormalization(momentum=0.8))\n",
    "        model.add(Dense(np.prod(self.img_shape), activation='tanh'))\n",
    "        model.add(Reshape(self.img_shape))\n",
    "\n",
    "        model.summary()\n",
    "\n",
    "        noise = Input(shape=noise_shape)\n",
    "        img = model(noise)\n",
    "\n",
    "        return Model(noise, img)\n",
    "\n",
    "    def build_discriminator(self):\n",
    "\n",
    "        img_shape = (self.img_rows, self.img_cols, self.channels)\n",
    "\n",
    "        model = Sequential()\n",
    "\n",
    "        model.add(Flatten(input_shape=img_shape))\n",
    "        model.add(Dense(512))\n",
    "        model.add(LeakyReLU(alpha=0.2))\n",
    "        model.add(Dense(256))\n",
    "        model.add(LeakyReLU(alpha=0.2))\n",
    "        model.add(Dense(1, activation='sigmoid'))\n",
    "        model.summary()\n",
    "\n",
    "        img = Input(shape=img_shape)\n",
    "        validity = model(img)\n",
    "\n",
    "        return Model(img, validity)\n",
    "\n",
    "    def train(self, X_train, y_, epochs=1000, batch_size=2):\n",
    "\n",
    "        X_train = 2 * (X_train.astype(np.float32)) - 1\n",
    "        X_train = np.expand_dims(X_train, axis=3)\n",
    "        half_batch = int(batch_size / 2)\n",
    "\n",
    "        for epoch in range(epochs):\n",
    "\n",
    "            # ---------------------\n",
    "            #  Train Discriminator\n",
    "            # ---------------------\n",
    "\n",
    "            # Select a random half batch of images\n",
    "            idx = np.random.randint(0, X_train.shape[0], half_batch)\n",
    "            imgs = X_train[idx]\n",
    "\n",
    "            noise = np.random.normal(0, 1, (half_batch, 100))\n",
    "\n",
    "            # Generate a half batch of new images\n",
    "            gen_imgs = self.generator.predict(noise)\n",
    "\n",
    "            # Train the discriminator\n",
    "            d_loss_real = self.discriminator.train_on_batch(imgs, np.ones((half_batch, 1)))\n",
    "            d_loss_fake = self.discriminator.train_on_batch(gen_imgs, np.zeros((half_batch, 1)))\n",
    "            d_loss = 0.5 * np.add(d_loss_real, d_loss_fake)\n",
    "\n",
    "            # ---------------------\n",
    "            #  Train Generator\n",
    "            # ---------------------\n",
    "\n",
    "            noise = np.random.normal(0, 1, (batch_size, 100))\n",
    "\n",
    "            # The generator wants the discriminator to label the generated samples as valid (ones)\n",
    "            valid_y = np.array([1] * batch_size)\n",
    "\n",
    "            # Train the generator\n",
    "            g_loss = self.combined.train_on_batch(noise, valid_y)"
   ]
  },
  {
   "cell_type": "markdown",
   "metadata": {
    "_uuid": "d261fcf8e9e09d52017c675ebf7040c563b0a454"
   },
   "source": [
    "### Build and Train the GAN"
   ]
  },
  {
   "cell_type": "code",
   "execution_count": 10,
   "metadata": {
    "_uuid": "6202a5360aa4200b230c014dd9c711a9e4478147"
   },
   "outputs": [
    {
     "name": "stdout",
     "output_type": "stream",
     "text": [
      "_________________________________________________________________\n",
      "Layer (type)                 Output Shape              Param #   \n",
      "=================================================================\n",
      "flatten_1 (Flatten)          (None, 247)               0         \n",
      "_________________________________________________________________\n",
      "dense_1 (Dense)              (None, 512)               126976    \n",
      "_________________________________________________________________\n",
      "leaky_re_lu_1 (LeakyReLU)    (None, 512)               0         \n",
      "_________________________________________________________________\n",
      "dense_2 (Dense)              (None, 256)               131328    \n",
      "_________________________________________________________________\n",
      "leaky_re_lu_2 (LeakyReLU)    (None, 256)               0         \n",
      "_________________________________________________________________\n",
      "dense_3 (Dense)              (None, 1)                 257       \n",
      "=================================================================\n",
      "Total params: 258,561\n",
      "Trainable params: 258,561\n",
      "Non-trainable params: 0\n",
      "_________________________________________________________________\n",
      "_________________________________________________________________\n",
      "Layer (type)                 Output Shape              Param #   \n",
      "=================================================================\n",
      "dense_4 (Dense)              (None, 256)               25856     \n",
      "_________________________________________________________________\n",
      "leaky_re_lu_3 (LeakyReLU)    (None, 256)               0         \n",
      "_________________________________________________________________\n",
      "batch_normalization_1 (Batch (None, 256)               1024      \n",
      "_________________________________________________________________\n",
      "dense_5 (Dense)              (None, 512)               131584    \n",
      "_________________________________________________________________\n",
      "leaky_re_lu_4 (LeakyReLU)    (None, 512)               0         \n",
      "_________________________________________________________________\n",
      "batch_normalization_2 (Batch (None, 512)               2048      \n",
      "_________________________________________________________________\n",
      "dense_6 (Dense)              (None, 1024)              525312    \n",
      "_________________________________________________________________\n",
      "leaky_re_lu_5 (LeakyReLU)    (None, 1024)              0         \n",
      "_________________________________________________________________\n",
      "batch_normalization_3 (Batch (None, 1024)              4096      \n",
      "_________________________________________________________________\n",
      "dense_7 (Dense)              (None, 247)               253175    \n",
      "_________________________________________________________________\n",
      "reshape_1 (Reshape)          (None, 19, 13, 1)         0         \n",
      "=================================================================\n",
      "Total params: 943,095\n",
      "Trainable params: 939,511\n",
      "Non-trainable params: 3,584\n",
      "_________________________________________________________________\n"
     ]
    },
    {
     "name": "stderr",
     "output_type": "stream",
     "text": [
      "/opt/conda/lib/python3.6/site-packages/Keras-2.2.4-py3.6.egg/keras/engine/training.py:490: UserWarning: Discrepancy between trainable weights and collected trainable weights, did you set `model.trainable` without calling `model.compile` after ?\n",
      "  'Discrepancy between trainable weights and collected trainable'\n"
     ]
    },
    {
     "name": "stdout",
     "output_type": "stream",
     "text": [
      "total training time: 197.71360206604004 seconds ---\n"
     ]
    }
   ],
   "source": [
    "gan = GAN()\n",
    "start_time = time.time()\n",
    "gan.train(data, labels, epochs=10000, batch_size=8)\n",
    "print(\"total training time: %s seconds ---\" % (time.time() - start_time))"
   ]
  },
  {
   "cell_type": "markdown",
   "metadata": {
    "_uuid": "6602b29083c13fa830de8eb6b354cd469283bebe"
   },
   "source": [
    "Generate 12 paths from noise vectors of size 100."
   ]
  },
  {
   "cell_type": "code",
   "execution_count": 11,
   "metadata": {
    "_uuid": "8745829b9ed789185c8e7a9fc0824f948aaddc09"
   },
   "outputs": [
    {
     "name": "stdout",
     "output_type": "stream",
     "text": [
      "(12, 100)\n"
     ]
    }
   ],
   "source": [
    "gen_samples_row, gen_samples_col = 3,4\n",
    "count = gen_samples_row*gen_samples_col\n",
    "noise = np.random.normal(0, 1, (count, 100))\n",
    "print(noise.shape)"
   ]
  },
  {
   "cell_type": "markdown",
   "metadata": {
    "_uuid": "2c7dbed51351df54692f014e81d2fff484771723"
   },
   "source": [
    "A noise vector:"
   ]
  },
  {
   "cell_type": "code",
   "execution_count": 12,
   "metadata": {
    "_uuid": "b27ff232992aba0aafe6c5f446a0e641ceb38ef5"
   },
   "outputs": [
    {
     "data": {
      "text/plain": [
       "array([ 0.79646073, -2.23725461,  0.68810812,  0.33380308,  0.64127182,\n",
       "       -0.80644527, -0.05885049, -0.82470099, -1.42570095,  1.14636398,\n",
       "       -0.92931357,  0.14625337, -1.49246267, -0.16189134, -0.18471568,\n",
       "       -0.77681296, -0.29455471,  0.24475361, -0.24443153, -0.04421801,\n",
       "       -1.76460013, -0.1070267 ,  1.29509601,  0.91068462,  0.30894917,\n",
       "       -1.29170434,  0.39671954,  0.78369528, -0.05229147, -1.27789263,\n",
       "       -0.8334399 ,  0.71829546,  0.59116938, -1.34397045, -1.83617777,\n",
       "        0.6337429 ,  1.42947436,  0.97041879,  2.47293275,  1.58518517,\n",
       "        0.96794822,  0.54753354, -1.64296071,  0.92653134, -0.08185655,\n",
       "        0.15770908,  0.2221284 ,  0.39548018, -0.23068761, -0.24575568,\n",
       "       -1.0306965 ,  1.35263924, -1.65640887,  1.13495049,  0.01048108,\n",
       "       -0.99144646, -0.46897825,  0.20930264,  0.56476895, -0.62344118,\n",
       "       -1.57529753, -1.18288715, -1.38644724, -0.79281343, -0.24392327,\n",
       "       -0.42394007, -1.29110073,  0.74222238,  1.47351567, -0.57500746,\n",
       "        0.09016319,  0.56401142, -1.32429581,  0.63387665,  0.39907404,\n",
       "        2.33914807,  1.10391001, -0.52267935,  0.22454019,  1.41316739,\n",
       "        1.91739281,  0.23239465,  0.8080152 ,  0.66953951,  0.45785055,\n",
       "       -1.62583459,  0.0486829 ,  0.49183344,  0.29644644, -1.26936525,\n",
       "        0.20050157, -0.95392161,  1.35544087, -1.28818897,  0.32304438,\n",
       "        0.77842807,  1.13615356, -0.9450162 , -0.40151341, -1.6405424 ])"
      ]
     },
     "execution_count": 12,
     "metadata": {},
     "output_type": "execute_result"
    }
   ],
   "source": [
    "noise[0]"
   ]
  },
  {
   "cell_type": "code",
   "execution_count": 13,
   "metadata": {
    "_uuid": "311b263efc46af8a9e63281ff8f4ffe882a0cf6e"
   },
   "outputs": [
    {
     "name": "stdout",
     "output_type": "stream",
     "text": [
      "(12, 19, 13, 1)\n"
     ]
    }
   ],
   "source": [
    "# Generate images from noise data\n",
    "gen_imgs = gan.generator.predict(noise)\n",
    "print(gen_imgs.shape)"
   ]
  },
  {
   "cell_type": "markdown",
   "metadata": {
    "_uuid": "6baed0d7a054aea32e4e7588fd15a7937a1aed59"
   },
   "source": [
    "Rescale image pixels in 0 - 1"
   ]
  },
  {
   "cell_type": "code",
   "execution_count": 14,
   "metadata": {
    "_uuid": "367de38f7258b849dde1669b9bc21a198d0e3b51"
   },
   "outputs": [],
   "source": [
    "gen_imgs = 0.5 * gen_imgs + 0.5"
   ]
  },
  {
   "cell_type": "markdown",
   "metadata": {
    "_uuid": "850ece6457ac2bedd0c99a9cc16587cafcee9fe1"
   },
   "source": [
    "Shape of a generated image:"
   ]
  },
  {
   "cell_type": "code",
   "execution_count": 15,
   "metadata": {
    "_uuid": "649ded7c5af79a9288921ddcc687b8da512b47cb"
   },
   "outputs": [
    {
     "data": {
      "text/plain": [
       "(19, 13, 1)"
      ]
     },
     "execution_count": 15,
     "metadata": {},
     "output_type": "execute_result"
    }
   ],
   "source": [
    "gen_imgs[0].shape"
   ]
  },
  {
   "cell_type": "markdown",
   "metadata": {
    "_uuid": "aadd4ba8356a032c1a7d8d4b2ad37d43aec5a036"
   },
   "source": [
    "Show the generated paths"
   ]
  },
  {
   "cell_type": "code",
   "execution_count": 16,
   "metadata": {
    "_uuid": "0d490c682138ca4bb6b43a294a37b0cae79f22dd"
   },
   "outputs": [
    {
     "data": {
      "image/png": "[encoded data removed]",
      "text/plain": [
       "<Figure size 324x360 with 12 Axes>"
      ]
     },
     "metadata": {},
     "output_type": "display_data"
    }
   ],
   "source": [
    "fig, axs = plt.subplots(gen_samples_row, gen_samples_col, figsize=(4.5,5))\n",
    "cnt = 0\n",
    "fig.subplots_adjust(hspace=0.5)\n",
    "for i in range(gen_samples_row):\n",
    "    for j in range(gen_samples_col):\n",
    "        axs[i,j].imshow(gen_imgs[cnt, :,:,0], cmap=plt.cm.gray)\n",
    "        axs[i,j].axis('off')\n",
    "    autoAxis = axs[i,j].axis()\n",
    "    rec = Rectangle((autoAxis[0]-0.1,autoAxis[2]-0.2),(autoAxis[1]-autoAxis[0])+.2,(autoAxis[3]-autoAxis[2])+0.1,fill=False, lw=0.5)\n",
    "    rec = axs[i,j].add_patch(rec)\n",
    "    rec.set_clip_on(False)\n",
    "    cnt += 1\n",
    "plt.show()\n",
    "plt.close()"
   ]
  },
  {
   "cell_type": "markdown",
   "metadata": {
    "_uuid": "ec0a360c30b038fa4a5266e315fbbeb334f95f84"
   },
   "source": [
    "After generating paths, we need to identify the class of generated path so we can check if they are what we expected."
   ]
  },
  {
   "cell_type": "markdown",
   "metadata": {
    "_uuid": "4ed53ebf24d77120d0154890b0d1f35b45200be1"
   },
   "source": [
    "## Create Path Classifier"
   ]
  },
  {
   "cell_type": "code",
   "execution_count": 17,
   "metadata": {
    "_uuid": "8ff353c6ebc199010b4f398069749506e5e0b090"
   },
   "outputs": [],
   "source": [
    "class PathClassifier:\n",
    "    \n",
    "    def __init__(self, num_pixels=13*19, num_classes=6):\n",
    "        self.model = self.build_classifier_base(num_pixels, num_classes)\n",
    "\n",
    "    def build_classifier_base(self, num_pixels, num_classes):\n",
    "        # fix random seed for reproducibility\n",
    "        seed = 7\n",
    "        np.random.seed(seed)\n",
    "        model = Sequential()\n",
    "        model.add(Dense(num_pixels, input_dim=num_pixels, kernel_initializer='normal', activation='relu'))\n",
    "        model.add(Dropout(0.2))\n",
    "        model.add(Dense(num_classes, kernel_initializer='normal', activation='softmax'))\n",
    "        # Compile model\n",
    "        model.compile(loss='categorical_crossentropy', optimizer='adam', metrics=['accuracy'])\n",
    "        return model\n",
    "\n",
    "    def train_model(self, X_train, y_train, eps=10, batch_size=20):\n",
    "        num_classes = y_train.shape[1]\n",
    "        num_pixels = X_train.shape[1]        \n",
    "        self.model.fit(X_train, y_train, epochs=eps, batch_size=batch_size, verbose=2)\n",
    "        return self.model\n",
    "\n",
    "    def evaluate(self, X_test, y_test):        \n",
    "        scores = self.model.evaluate(X_test, y_test, verbose=0)\n",
    "        accuracy = scores[1] * 100\n",
    "        print(\"Classification accuracy: %.2f%%\" % accuracy)\n",
    "        return accuracy"
   ]
  },
  {
   "cell_type": "markdown",
   "metadata": {
    "_uuid": "0b4b2d4352a2ebb710b1d051d10e76dab14803dc"
   },
   "source": [
    "### Train the path classifier"
   ]
  },
  {
   "cell_type": "code",
   "execution_count": 18,
   "metadata": {
    "_uuid": "3fb1830c68ca87ed1fb5f8043df535d5711b69a3"
   },
   "outputs": [
    {
     "name": "stdout",
     "output_type": "stream",
     "text": [
      "Epoch 1/10\n",
      " - 0s - loss: 1.6325 - acc: 0.4932\n",
      "Epoch 2/10\n",
      " - 0s - loss: 1.2471 - acc: 0.8402\n",
      "Epoch 3/10\n",
      " - 0s - loss: 0.8957 - acc: 0.9224\n",
      "Epoch 4/10\n",
      " - 0s - loss: 0.5911 - acc: 0.9452\n",
      "Epoch 5/10\n",
      " - 0s - loss: 0.3829 - acc: 0.9589\n",
      "Epoch 6/10\n",
      " - 0s - loss: 0.2582 - acc: 0.9726\n",
      "Epoch 7/10\n",
      " - 0s - loss: 0.1833 - acc: 0.9726\n",
      "Epoch 8/10\n",
      " - 0s - loss: 0.1275 - acc: 0.9909\n",
      "Epoch 9/10\n",
      " - 0s - loss: 0.0962 - acc: 0.9909\n",
      "Epoch 10/10\n",
      " - 0s - loss: 0.0791 - acc: 0.9863\n"
     ]
    },
    {
     "data": {
      "text/plain": [
       "<keras.engine.sequential.Sequential at 0x7f519935d550>"
      ]
     },
     "execution_count": 18,
     "metadata": {},
     "output_type": "execute_result"
    }
   ],
   "source": [
    "path_classifier = PathClassifier()\n",
    "lblEnc = LabelEncoder()\n",
    "labels = lblEnc.fit_transform(labels)\n",
    "\n",
    "num_pixels = data.shape[1] * data.shape[2]\n",
    "data = data.reshape(data.shape[0], num_pixels).astype('float32')\n",
    "labels = np_utils.to_categorical(labels)\n",
    "\n",
    "num_classes = labels.shape[1]\n",
    "\n",
    "lnx = int(len(data) * 0.7)\n",
    "X_train, X_test = data[:lnx], data[lnx:]\n",
    "y_train, y_test = labels[:lnx], labels[lnx:]\n",
    "\n",
    "path_classifier.train_model(X_train, y_train, eps=10, batch_size=i*10)\n"
   ]
  },
  {
   "cell_type": "markdown",
   "metadata": {
    "_uuid": "09e01458757eb4db4e9bad0e9be98c81644c38d6"
   },
   "source": [
    "How accurate is our path classifier?"
   ]
  },
  {
   "cell_type": "code",
   "execution_count": 19,
   "metadata": {
    "_uuid": "dcc95e6340ba000cb136ec5ce405312d83549f19"
   },
   "outputs": [
    {
     "name": "stdout",
     "output_type": "stream",
     "text": [
      "Classification accuracy: 94.68%\n"
     ]
    },
    {
     "data": {
      "text/plain": [
       "94.68085017610105"
      ]
     },
     "execution_count": 19,
     "metadata": {},
     "output_type": "execute_result"
    }
   ],
   "source": [
    "path_classifier.evaluate(X_test, y_test)"
   ]
  },
  {
   "cell_type": "markdown",
   "metadata": {
    "_uuid": "855283b642aee6e7ffa3137770dc9b97ab1f7668"
   },
   "source": [
    "Now we can identify the class of generated paths"
   ]
  },
  {
   "cell_type": "code",
   "execution_count": 20,
   "metadata": {
    "_uuid": "0c325bddaaf0dbb9b1a6b45ba5d4cefe775a7153"
   },
   "outputs": [],
   "source": [
    "gen_imgs2 = gen_imgs.reshape(gen_imgs.shape[0], gen_imgs.shape[1]*gen_imgs.shape[2]).astype('float32')\n",
    "classes = path_classifier.model.predict(gen_imgs2)\n",
    "classes = np.argmax(classes, axis=1)"
   ]
  },
  {
   "cell_type": "markdown",
   "metadata": {
    "_uuid": "5359e02d4acd4c1ed74b8b8886be4a2ba9f338ab"
   },
   "source": [
    "Draw generated paths and their class label"
   ]
  },
  {
   "cell_type": "code",
   "execution_count": 21,
   "metadata": {
    "_uuid": "6b37bcfed49e3023801e469545e7b0ce98cfc525"
   },
   "outputs": [
    {
     "data": {
      "image/png": "[encoded data removed]",
      "text/plain": [
       "<Figure size 324x360 with 12 Axes>"
      ]
     },
     "metadata": {},
     "output_type": "display_data"
    }
   ],
   "source": [
    "fig, axs = plt.subplots(gen_samples_row, gen_samples_col, figsize=(4.5,5))\n",
    "cnt = 0\n",
    "fig.subplots_adjust(hspace=0.5)\n",
    "for i in range(gen_samples_row):\n",
    "    for j in range(gen_samples_col):\n",
    "        axs[i,j].imshow(gen_imgs[cnt, :,:,0], cmap=plt.cm.gray)\n",
    "        axs[i,j].set_title('class ' + str(classes[cnt]))\n",
    "        axs[i,j].axis('off')\n",
    "    autoAxis = axs[i,j].axis()\n",
    "    rec = Rectangle((autoAxis[0]-0.1,autoAxis[2]-0.2),(autoAxis[1]-autoAxis[0])+.2,(autoAxis[3]-autoAxis[2])+0.1,fill=False, lw=0.5)\n",
    "    rec = axs[i,j].add_patch(rec)\n",
    "    rec.set_clip_on(False)\n",
    "    cnt += 1\n",
    "plt.show()\n",
    "plt.close()"
   ]
  },
  {
   "cell_type": "markdown",
   "metadata": {
    "_uuid": "dc1fee4be7663f06018279cae2ca6ab5a646e462"
   },
   "source": [
    "### *Chanllenge: How to automatically evaluate the accuracy of generative models? It is still an open research question.*"
   ]
  }
 ],
 "metadata": {
  "kernelspec": {
   "display_name": "Python 3",
   "language": "python",
   "name": "python3"
  },
  "language_info": {
   "codemirror_mode": {
    "name": "ipython",
    "version": 3
   },
   "file_extension": ".py",
   "mimetype": "text/x-python",
   "name": "python",
   "nbconvert_exporter": "python",
   "pygments_lexer": "ipython3",
   "version": "3.6.6"
  }
 },
 "nbformat": 4,
 "nbformat_minor": 1
}
